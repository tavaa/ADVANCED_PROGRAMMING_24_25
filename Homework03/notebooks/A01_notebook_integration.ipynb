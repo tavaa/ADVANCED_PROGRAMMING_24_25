{
 "cells": [
  {
   "cell_type": "markdown",
   "metadata": {},
   "source": [
    "# Integration Notebook"
   ]
  },
  {
   "cell_type": "markdown",
   "metadata": {},
   "source": [
    "This is a simply notebook that shows the practical use of the integration module, using practical example of integrations in order to solve a problem. The aim of this notebook is to show the efficency and use cases of scientific_module Integration wrt a practical example."
   ]
  },
  {
   "cell_type": "code",
   "execution_count": 27,
   "metadata": {},
   "outputs": [],
   "source": [
    "# Import Libraries\n",
    "import os\n",
    "import sys\n",
    "import math\n",
    "\n",
    "modules_dir = os.path.abspath(\"../modules/\")  \n",
    "sys.path.append(modules_dir)\n",
    "\n",
    "from scientific_module import Integration "
   ]
  },
  {
   "cell_type": "markdown",
   "metadata": {},
   "source": [
    "## Exercise 1"
   ]
  },
  {
   "cell_type": "markdown",
   "metadata": {},
   "source": [
    "**Problem**: Calculating the volume of a rotational solid.\n",
    "Suppose we have a function $𝑦 = 𝑓(𝑥) = 𝑥^2$  defined in the interval [0,2]. \n",
    "We want to calculate the volume of the solid obtained by rotating this curve around the axis 𝑥."
   ]
  },
  {
   "cell_type": "markdown",
   "metadata": {},
   "source": [
    "Formula to compute the volume of a rotational solid around x axis:\n",
    "\n",
    "$$ V = \\pi \\int_{a}^{b} [f(x)^2]dx $$"
   ]
  },
  {
   "cell_type": "markdown",
   "metadata": {},
   "source": [
    "Where: $\\\\$\n",
    "$f(x) = x^2$ $\\\\$\n",
    "a = 0, b = 2"
   ]
  },
  {
   "cell_type": "code",
   "execution_count": 12,
   "metadata": {},
   "outputs": [],
   "source": [
    "# set parameters:\n",
    "a, b= 0, 2"
   ]
  },
  {
   "cell_type": "markdown",
   "metadata": {},
   "source": [
    "Substituting we obtain, $\\\\$\n",
    "\n",
    "$$  V = \\pi \\int_{0}^{2} [(x^2)^2]dx = \\pi \\int_{0}^{2} x^4 dx$$"
   ]
  },
  {
   "cell_type": "code",
   "execution_count": 13,
   "metadata": {},
   "outputs": [],
   "source": [
    "def f(x):\n",
    "    return x**4"
   ]
  },
  {
   "cell_type": "markdown",
   "metadata": {},
   "source": [
    "Let's compute the Integral using our Integration Module:"
   ]
  },
  {
   "cell_type": "code",
   "execution_count": 19,
   "metadata": {},
   "outputs": [
    {
     "name": "stdout",
     "output_type": "stream",
     "text": [
      "6.399999999466711 6.4000000010666875 6.399999999999997\n"
     ]
    }
   ],
   "source": [
    "# Call the constructor of Integration\n",
    "int_istance1 = Integration()\n",
    "\n",
    "# use different methods to integrate with 10 intervals\n",
    "result_midpoint = int_istance1.integrate(\"midpoint\", f, a, b, N)\n",
    "result_trapezoidal = int_istance1.integrate(\"trapezoidal\", f, a, b, N)\n",
    "result_simpson = int_istance1.integrate(\"simpson\", f, a, b, N)\n",
    "\n",
    "print(result_midpoint, result_trapezoidal, result_simpson)\n"
   ]
  },
  {
   "cell_type": "markdown",
   "metadata": {},
   "source": [
    "Results are very similar with all the three methods, let's solve manually:"
   ]
  },
  {
   "cell_type": "markdown",
   "metadata": {},
   "source": [
    "$$ \\pi \\int_{0}^{2} x^4 dx = \\frac{x^5}{5} + C $$"
   ]
  },
  {
   "cell_type": "markdown",
   "metadata": {},
   "source": [
    "Compute Volume: \n",
    "$$ V = \\pi \\frac{32}{5} = \\frac{32\\pi}{5} \\approx 6.4$$"
   ]
  },
  {
   "cell_type": "markdown",
   "metadata": {},
   "source": [
    "Let's vary the number of intervals for a better approximation:"
   ]
  },
  {
   "cell_type": "code",
   "execution_count": 16,
   "metadata": {},
   "outputs": [
    {
     "name": "stdout",
     "output_type": "stream",
     "text": [
      "10 intervals: midpoint: 6.3467600000000015, trapezoidal: 6.50656, simpson: 6.400426666666667\n",
      "20 intervals: midpoint: 6.386672500000002, trapezoidal: 6.426660000000002, simpson: 6.400026666666667\n",
      "50 intervals: midpoint: 6.3978668160000005, trapezoidal: 6.404266495999999, simpson: 6.4000006826666676\n",
      "100 intervals: midpoint: 6.399466675999999, trapezoidal: 6.401066656000002, simpson: 6.400000042666667\n",
      "1000 intervals: midpoint: 6.399994666667602, trapezoidal: 6.400010666665603, simpson: 6.400000000004266\n",
      "100000 intervals: midpoint: 6.399999999466711, trapezoidal: 6.4000000010666875, simpson: 6.399999999999997\n"
     ]
    }
   ],
   "source": [
    "intervals = [10, 20, 50, 100, 1000, 100000]\n",
    "\n",
    "for N in intervals:\n",
    "    result_midpoint = int_istance1.integrate(\"midpoint\", f, a, b, N)\n",
    "    result_trapezoidal = int_istance1.integrate(\"trapezoidal\", f, a, b, N)\n",
    "    result_simpson = int_istance1.integrate(\"simpson\", f, a, b, N)\n",
    "    print(f\"{N} intervals: midpoint: {result_midpoint}, trapezoidal: {result_trapezoidal}, simpson: {result_simpson}\")\n",
    "\n"
   ]
  },
  {
   "cell_type": "code",
   "execution_count": 17,
   "metadata": {},
   "outputs": [
    {
     "name": "stdout",
     "output_type": "stream",
     "text": [
      "<Integration(method=simpson, interval=[0, 2], subintervals=100000, result=6.40000)>\n"
     ]
    }
   ],
   "source": [
    "# print using magic method\n",
    "print(int_istance1)"
   ]
  },
  {
   "cell_type": "markdown",
   "metadata": {},
   "source": [
    "## Exercise 2"
   ]
  },
  {
   "cell_type": "markdown",
   "metadata": {},
   "source": [
    "**Problem**: Calculation of the distance covered by a moving object. "
   ]
  },
  {
   "cell_type": "markdown",
   "metadata": {},
   "source": [
    "Imagine that an object is moving along a straight line, and its velocity as a function of time is described by the function $𝑣(𝑡)=5𝑡+2$, where $v(t)$ is the velocity in meters per second and t is the time in seconds. We want to calculate the distance traveled by the object in the time interval \n",
    "$[0 , 3]$ seconds."
   ]
  },
  {
   "cell_type": "markdown",
   "metadata": {},
   "source": [
    "*Formula to compute the covered distance*: $$d = \\int_{a}^{b}v(t) dt $$"
   ]
  },
  {
   "cell_type": "markdown",
   "metadata": {},
   "source": [
    "where: $\\\\$\n",
    "\n",
    "$v(t) = 5t + 2$,  \n",
    "$a = 0, b = 3$"
   ]
  },
  {
   "cell_type": "markdown",
   "metadata": {},
   "source": [
    "So we must calculate: $\\\\$\n",
    "\n",
    "$$d = \\int_{0}^{3}5t+2 dt $$"
   ]
  },
  {
   "cell_type": "code",
   "execution_count": 25,
   "metadata": {},
   "outputs": [],
   "source": [
    "#set parameters:\n",
    "a = 0\n",
    "b = 3\n",
    "\n",
    "def v(t):\n",
    "    return 5*t+2"
   ]
  },
  {
   "cell_type": "markdown",
   "metadata": {},
   "source": [
    "$$d = \\int_{0}^{3}5t+2 dt = \\left[\\frac{5t^2}{2} + 2t\\right]_{0}^{3}$$"
   ]
  },
  {
   "cell_type": "markdown",
   "metadata": {},
   "source": [
    "substitute:\n",
    "\n",
    "$$ d = \\left(\\frac{5(3)^2}{2} + 2(3) \\right) - \\left(\\frac{5(0)^2}{2} + 2(0) \\right)  $$\n",
    "$$ d = \\left(\\frac{45}{2} + 6 \\right) - (0) $$\n",
    "$$ d = \\frac{45}{2} + \\frac{12}{2} = \\frac{57}{2} = 28.5 \\ \\text{meters}  $$ "
   ]
  },
  {
   "cell_type": "markdown",
   "metadata": {},
   "source": [
    "Let's use the scientific module to confirm the result:"
   ]
  },
  {
   "cell_type": "code",
   "execution_count": 24,
   "metadata": {},
   "outputs": [],
   "source": [
    "# Call the constructor of Integration\n",
    "int_istance2 = Integration()"
   ]
  },
  {
   "cell_type": "code",
   "execution_count": 26,
   "metadata": {},
   "outputs": [
    {
     "name": "stdout",
     "output_type": "stream",
     "text": [
      "10 intervals: midpoint: 28.5, trapezoidal: 28.5, simpson: 28.499999999999996\n",
      "20 intervals: midpoint: 28.5, trapezoidal: 28.5, simpson: 28.499999999999996\n",
      "50 intervals: midpoint: 28.5, trapezoidal: 28.5, simpson: 28.499999999999996\n",
      "100 intervals: midpoint: 28.5, trapezoidal: 28.5, simpson: 28.5\n",
      "1000 intervals: midpoint: 28.500000000000007, trapezoidal: 28.5, simpson: 28.5\n",
      "100000 intervals: midpoint: 28.500000000000004, trapezoidal: 28.500000000000004, simpson: 28.499999999999996\n"
     ]
    }
   ],
   "source": [
    "intervals = [10, 20, 50, 100, 1000, 100000]\n",
    "\n",
    "for N in intervals:\n",
    "    result_midpoint = int_istance2.integrate(\"midpoint\", v, a, b, N)\n",
    "    result_trapezoidal = int_istance2.integrate(\"trapezoidal\", v, a, b, N)\n",
    "    result_simpson = int_istance2.integrate(\"simpson\", v, a, b, N)\n",
    "    print(f\"{N} intervals: midpoint: {result_midpoint}, trapezoidal: {result_trapezoidal}, simpson: {result_simpson}\")"
   ]
  },
  {
   "cell_type": "markdown",
   "metadata": {},
   "source": [
    "We have confirmed the calculation using the **scientific module**"
   ]
  }
 ],
 "metadata": {
  "kernelspec": {
   "display_name": "Python 3",
   "language": "python",
   "name": "python3"
  },
  "language_info": {
   "codemirror_mode": {
    "name": "ipython",
    "version": 3
   },
   "file_extension": ".py",
   "mimetype": "text/x-python",
   "name": "python",
   "nbconvert_exporter": "python",
   "pygments_lexer": "ipython3",
   "version": "3.10.12"
  }
 },
 "nbformat": 4,
 "nbformat_minor": 2
}
